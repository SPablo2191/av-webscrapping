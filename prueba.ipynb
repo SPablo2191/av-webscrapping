{
 "cells": [
  {
   "cell_type": "code",
   "execution_count": 1,
   "id": "427d8268-02f3-46a8-9058-f2661b1496f9",
   "metadata": {},
   "outputs": [
    {
     "name": "stdout",
     "output_type": "stream",
     "text": [
      "hola mundo\n"
     ]
    }
   ],
   "source": [
    "print(\"hola mundo\")"
   ]
  },
  {
   "cell_type": "code",
   "execution_count": 2,
   "id": "7063f5d3-ab33-42d3-b0d2-8dde85fe4e8d",
   "metadata": {},
   "outputs": [
    {
     "name": "stdout",
     "output_type": "stream",
     "text": [
      "adios mundo\n"
     ]
    }
   ],
   "source": [
    "print(\"adios mundo\")"
   ]
  },
  {
   "cell_type": "markdown",
   "id": "28b5ad9d-5e0b-4ac7-a328-9c2f4ca7b36b",
   "metadata": {},
   "source": [
    "# Hola\n",
    "- como estas?"
   ]
  },
  {
   "cell_type": "code",
   "execution_count": null,
   "id": "bbf565d1-071b-4358-b028-eabe93e87f36",
   "metadata": {},
   "outputs": [],
   "source": []
  }
 ],
 "metadata": {
  "kernelspec": {
   "display_name": "Python 3 (ipykernel)",
   "language": "python",
   "name": "python3"
  },
  "language_info": {
   "codemirror_mode": {
    "name": "ipython",
    "version": 3
   },
   "file_extension": ".py",
   "mimetype": "text/x-python",
   "name": "python",
   "nbconvert_exporter": "python",
   "pygments_lexer": "ipython3",
   "version": "3.13.0"
  }
 },
 "nbformat": 4,
 "nbformat_minor": 5
}
