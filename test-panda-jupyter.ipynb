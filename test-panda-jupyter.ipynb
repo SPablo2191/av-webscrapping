{
 "cells": [
  {
   "cell_type": "code",
   "execution_count": 1,
   "id": "cae44042-0a9c-4694-86a3-4e4672cbfdb4",
   "metadata": {},
   "outputs": [],
   "source": [
    "import pandas as pd"
   ]
  },
  {
   "cell_type": "markdown",
   "id": "637324e3-c99c-405f-8fdf-658a0a8b11fc",
   "metadata": {},
   "source": [
    "# Añadimos un diccionario"
   ]
  },
  {
   "cell_type": "code",
   "execution_count": 15,
   "id": "9ee3bcd8-9633-4e62-8567-0c3eed7d9b2f",
   "metadata": {},
   "outputs": [],
   "source": [
    "example_data = {'Name': ['Ana', 'Carlos', 'Luis', None, 'Ana'],\n",
    "         'Age': [23, 35, None, 40, 23],\n",
    "         'City': ['Lima', 'Arequipa', 'Cusco', 'Lima', 'Lima']}\n"
   ]
  },
  {
   "cell_type": "code",
   "execution_count": 16,
   "id": "359162bd-bafd-4d2f-a5be-f5112ca3d614",
   "metadata": {},
   "outputs": [
    {
     "data": {
      "text/html": [
       "<div>\n",
       "<style scoped>\n",
       "    .dataframe tbody tr th:only-of-type {\n",
       "        vertical-align: middle;\n",
       "    }\n",
       "\n",
       "    .dataframe tbody tr th {\n",
       "        vertical-align: top;\n",
       "    }\n",
       "\n",
       "    .dataframe thead th {\n",
       "        text-align: right;\n",
       "    }\n",
       "</style>\n",
       "<table border=\"1\" class=\"dataframe\">\n",
       "  <thead>\n",
       "    <tr style=\"text-align: right;\">\n",
       "      <th></th>\n",
       "      <th>Name</th>\n",
       "      <th>Age</th>\n",
       "      <th>City</th>\n",
       "    </tr>\n",
       "  </thead>\n",
       "  <tbody>\n",
       "    <tr>\n",
       "      <th>0</th>\n",
       "      <td>Ana</td>\n",
       "      <td>23.0</td>\n",
       "      <td>Lima</td>\n",
       "    </tr>\n",
       "    <tr>\n",
       "      <th>1</th>\n",
       "      <td>Carlos</td>\n",
       "      <td>35.0</td>\n",
       "      <td>Arequipa</td>\n",
       "    </tr>\n",
       "    <tr>\n",
       "      <th>2</th>\n",
       "      <td>Luis</td>\n",
       "      <td>NaN</td>\n",
       "      <td>Cusco</td>\n",
       "    </tr>\n",
       "    <tr>\n",
       "      <th>3</th>\n",
       "      <td>None</td>\n",
       "      <td>40.0</td>\n",
       "      <td>Lima</td>\n",
       "    </tr>\n",
       "    <tr>\n",
       "      <th>4</th>\n",
       "      <td>Ana</td>\n",
       "      <td>23.0</td>\n",
       "      <td>Lima</td>\n",
       "    </tr>\n",
       "  </tbody>\n",
       "</table>\n",
       "</div>"
      ],
      "text/plain": [
       "     Name   Age      City\n",
       "0     Ana  23.0      Lima\n",
       "1  Carlos  35.0  Arequipa\n",
       "2    Luis   NaN     Cusco\n",
       "3    None  40.0      Lima\n",
       "4     Ana  23.0      Lima"
      ]
     },
     "execution_count": 16,
     "metadata": {},
     "output_type": "execute_result"
    }
   ],
   "source": [
    "df = pd.DataFrame(example_data)\n",
    "df"
   ]
  },
  {
   "cell_type": "code",
   "execution_count": 18,
   "id": "1a9d67b7-accb-432d-a067-0fa93d1395d4",
   "metadata": {},
   "outputs": [
    {
     "name": "stdout",
     "output_type": "stream",
     "text": [
      "Ana\n",
      "Carlos\n",
      "Luis\n",
      "None\n",
      "Ana\n"
     ]
    }
   ],
   "source": [
    "for index,row in df.iterrows():\n",
    "    print(row[\"Name\"])"
   ]
  }
 ],
 "metadata": {
  "kernelspec": {
   "display_name": "venv",
   "language": "python",
   "name": "python3"
  },
  "language_info": {
   "codemirror_mode": {
    "name": "ipython",
    "version": 3
   },
   "file_extension": ".py",
   "mimetype": "text/x-python",
   "name": "python",
   "nbconvert_exporter": "python",
   "pygments_lexer": "ipython3",
   "version": "3.12.4"
  }
 },
 "nbformat": 4,
 "nbformat_minor": 5
}
